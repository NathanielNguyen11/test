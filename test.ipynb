{
 "cells": [
  {
   "cell_type": "code",
   "execution_count": null,
   "id": "a1318ead-31c0-44c7-979b-582cffbb42d1",
   "metadata": {},
   "outputs": [],
   "source": [
    "!python create_input_files.py"
   ]
  },
  {
   "cell_type": "code",
   "execution_count": null,
   "id": "9f718c15-6ae1-4c43-bf3f-e41a0ccb1d97",
   "metadata": {},
   "outputs": [],
   "source": [
    "!python train.py"
   ]
  },
  {
   "cell_type": "code",
   "execution_count": 13,
   "id": "092866da-f46a-4296-b307-f3e5c04e319f",
   "metadata": {},
   "outputs": [
    {
     "name": "stdout",
     "output_type": "stream",
     "text": [
      "Figure(640x480)\n"
     ]
    }
   ],
   "source": [
    "!python caption.py --img='../../dataset/COCO/val2014/COCO_val2014_000000581929.jpg' \\\n",
    "--model='BEST_checkpoint_coco_5_cap_per_img_5_min_word_freq.pth.tar' \\\n",
    "--word_map='../../dataset/COCO/output/WORDMAP_coco_5_cap_per_img_5_min_word_freq.json' --beam_size=5"
   ]
  },
  {
   "cell_type": "code",
   "execution_count": null,
   "id": "22494790-7b83-4e4d-9d82-7c8c6c9e57db",
   "metadata": {},
   "outputs": [],
   "source": []
  }
 ],
 "metadata": {
  "kernelspec": {
   "display_name": "Python 3",
   "language": "python",
   "name": "python3"
  },
  "language_info": {
   "codemirror_mode": {
    "name": "ipython",
    "version": 3
   },
   "file_extension": ".py",
   "mimetype": "text/x-python",
   "name": "python",
   "nbconvert_exporter": "python",
   "pygments_lexer": "ipython3",
   "version": "3.6.9"
  },
  "widgets": {
   "application/vnd.jupyter.widget-state+json": {
    "state": {},
    "version_major": 2,
    "version_minor": 0
   }
  }
 },
 "nbformat": 4,
 "nbformat_minor": 5
}
